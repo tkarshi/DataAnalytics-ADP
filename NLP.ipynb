{
 "cells": [
  {
   "cell_type": "markdown",
   "id": "d78f6224-5f4a-441e-ac5f-ac7b92e9b659",
   "metadata": {},
   "source": [
    "# Introduction to Natural Language Processing with Python"
   ]
  },
  {
   "cell_type": "markdown",
   "id": "1e50acc2-e31d-48bf-aa54-10f0d37a292f",
   "metadata": {},
   "source": [
    "### Natur\n",
    "#### Study of the computational treatment natural (human) language.\n",
    "#### Teaching computers how to understand (and generate) human language."
   ]
  },
  {
   "cell_type": "code",
   "execution_count": null,
   "id": "b5f3356e-0e61-494b-9a6d-5d5f6213c486",
   "metadata": {},
   "outputs": [],
   "source": []
  }
 ],
 "metadata": {
  "kernelspec": {
   "display_name": "Python 3 (ipykernel)",
   "language": "python",
   "name": "python3"
  },
  "language_info": {
   "codemirror_mode": {
    "name": "ipython",
    "version": 3
   },
   "file_extension": ".py",
   "mimetype": "text/x-python",
   "name": "python",
   "nbconvert_exporter": "python",
   "pygments_lexer": "ipython3",
   "version": "3.12.7"
  }
 },
 "nbformat": 4,
 "nbformat_minor": 5
}
